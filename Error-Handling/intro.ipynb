{
 "cells": [
  {
   "cell_type": "code",
   "execution_count": 2,
   "metadata": {},
   "outputs": [
    {
     "name": "stdout",
     "output_type": "stream",
     "text": [
      "Hey! It looks like you aren't adding correctly\n",
      "It will run no matter what!\n"
     ]
    }
   ],
   "source": [
    "try:\n",
    "    result = 10+\"10\"\n",
    "except:\n",
    "    print(\"Hey! It looks like you aren't adding correctly\")\n",
    "else:\n",
    "    print(\"Add went well!\")\n",
    "    print(result)\n",
    "finally:\n",
    "    print(\"It will run no matter what!\")"
   ]
  },
  {
   "cell_type": "code",
   "execution_count": 3,
   "metadata": {},
   "outputs": [
    {
     "name": "stdout",
     "output_type": "stream",
     "text": [
      "I always run\n"
     ]
    }
   ],
   "source": [
    "try:\n",
    "    res = open(\"file.txt\",\"w\")\n",
    "    res.write(\"Write a test line\")\n",
    "except TypeError:\n",
    "    print(\"There was a type error!\")\n",
    "except OSError:\n",
    "    print(\"Hey you have an OS Error!\")\n",
    "finally:\n",
    "    print(\"I always run\")"
   ]
  }
 ],
 "metadata": {
  "kernelspec": {
   "display_name": "Python 3",
   "language": "python",
   "name": "python3"
  },
  "language_info": {
   "codemirror_mode": {
    "name": "ipython",
    "version": 3
   },
   "file_extension": ".py",
   "mimetype": "text/x-python",
   "name": "python",
   "nbconvert_exporter": "python",
   "pygments_lexer": "ipython3",
   "version": "3.13.1"
  }
 },
 "nbformat": 4,
 "nbformat_minor": 2
}
